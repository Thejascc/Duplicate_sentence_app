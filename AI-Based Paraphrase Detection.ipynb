{
 "cells": [
  {
   "cell_type": "code",
   "execution_count": 51,
   "id": "a54c0b9c-43c5-4339-a39c-7d0b0b5300d5",
   "metadata": {},
   "outputs": [
    {
     "name": "stderr",
     "output_type": "stream",
     "text": [
      "[nltk_data] Downloading package punkt to\n",
      "[nltk_data]     C:\\Users\\theja\\AppData\\Roaming\\nltk_data...\n",
      "[nltk_data]   Package punkt is already up-to-date!\n"
     ]
    }
   ],
   "source": [
    "import pandas as pd\n",
    "import numpy as np\n",
    "from sentence_transformers import SentenceTransformer\n",
    "from sklearn.metrics.pairwise import cosine_similarity\n",
    "from sklearn.metrics import accuracy_score, f1_score, confusion_matrix\n",
    "import re\n",
    "import itertools\n",
    "import nltk\n",
    "nltk.download('punkt')\n",
    "from nltk.tokenize import sent_tokenize\n",
    "\n"
   ]
  },
  {
   "cell_type": "code",
   "execution_count": 11,
   "id": "db96454d-b04d-47bf-a5f0-2b60a0386a70",
   "metadata": {},
   "outputs": [
    {
     "data": {
      "text/html": [
       "<div>\n",
       "<style scoped>\n",
       "    .dataframe tbody tr th:only-of-type {\n",
       "        vertical-align: middle;\n",
       "    }\n",
       "\n",
       "    .dataframe tbody tr th {\n",
       "        vertical-align: top;\n",
       "    }\n",
       "\n",
       "    .dataframe thead th {\n",
       "        text-align: right;\n",
       "    }\n",
       "</style>\n",
       "<table border=\"1\" class=\"dataframe\">\n",
       "  <thead>\n",
       "    <tr style=\"text-align: right;\">\n",
       "      <th></th>\n",
       "      <th>question1</th>\n",
       "      <th>question2</th>\n",
       "      <th>is_duplicate</th>\n",
       "    </tr>\n",
       "  </thead>\n",
       "  <tbody>\n",
       "    <tr>\n",
       "      <th>0</th>\n",
       "      <td>Do people realize that you can send marijuana ...</td>\n",
       "      <td>How do you send weed through the mail?</td>\n",
       "      <td>0</td>\n",
       "    </tr>\n",
       "    <tr>\n",
       "      <th>1</th>\n",
       "      <td>How can rock music be brought back?</td>\n",
       "      <td>What would it take for rock music to make a co...</td>\n",
       "      <td>1</td>\n",
       "    </tr>\n",
       "    <tr>\n",
       "      <th>2</th>\n",
       "      <td>Why does one feel relaxed after smoking a join...</td>\n",
       "      <td>How do I sober up quickly after smoking weed/m...</td>\n",
       "      <td>0</td>\n",
       "    </tr>\n",
       "    <tr>\n",
       "      <th>3</th>\n",
       "      <td>How to gain weight ?</td>\n",
       "      <td>How do I gain weight fast but still be healthy?</td>\n",
       "      <td>1</td>\n",
       "    </tr>\n",
       "    <tr>\n",
       "      <th>4</th>\n",
       "      <td>Is porn bad for men?</td>\n",
       "      <td>Can I become a porn fan without getting addicted?</td>\n",
       "      <td>0</td>\n",
       "    </tr>\n",
       "  </tbody>\n",
       "</table>\n",
       "</div>"
      ],
      "text/plain": [
       "                                           question1  \\\n",
       "0  Do people realize that you can send marijuana ...   \n",
       "1                How can rock music be brought back?   \n",
       "2  Why does one feel relaxed after smoking a join...   \n",
       "3                               How to gain weight ?   \n",
       "4                               Is porn bad for men?   \n",
       "\n",
       "                                           question2  is_duplicate  \n",
       "0             How do you send weed through the mail?             0  \n",
       "1  What would it take for rock music to make a co...             1  \n",
       "2  How do I sober up quickly after smoking weed/m...             0  \n",
       "3    How do I gain weight fast but still be healthy?             1  \n",
       "4  Can I become a porn fan without getting addicted?             0  "
      ]
     },
     "execution_count": 11,
     "metadata": {},
     "output_type": "execute_result"
    }
   ],
   "source": [
    "# Load dataset (can be downloaded from Kaggle)\n",
    "df = pd.read_csv(\"questions.csv\")\n",
    "df = df[['question1', 'question2', 'is_duplicate']]\n",
    "\n",
    "# Drop rows with missing values\n",
    "df = df.dropna(subset=['question1', 'question2', 'is_duplicate'])\n",
    "\n",
    "# Use only a small sample for testing (optional)\n",
    "df = df.sample(1000, random_state=42).reset_index(drop=True)\n",
    "\n",
    "df.head()\n"
   ]
  },
  {
   "cell_type": "code",
   "execution_count": 13,
   "id": "73757aee-1239-4d63-abba-bcb900775f63",
   "metadata": {},
   "outputs": [
    {
     "name": "stdout",
     "output_type": "stream",
     "text": [
      "Index(['question1', 'question2', 'is_duplicate'], dtype='object')\n"
     ]
    }
   ],
   "source": [
    "print(df.columns)\n",
    "\n"
   ]
  },
  {
   "cell_type": "code",
   "execution_count": 15,
   "id": "0ad341a8-f73d-4573-8424-93d72c99c412",
   "metadata": {},
   "outputs": [],
   "source": [
    "# Load pretrained SBERT model\n",
    "model = SentenceTransformer('all-MiniLM-L6-v2')\n",
    "\n",
    "# Encode the sentence pairs\n",
    "embeddings1 = model.encode(df['question1'].tolist(), convert_to_tensor=True)\n",
    "embeddings2 = model.encode(df['question2'].tolist(), convert_to_tensor=True)\n"
   ]
  },
  {
   "cell_type": "code",
   "execution_count": 45,
   "id": "7bb488aa-022b-4803-bdff-3f98beef9654",
   "metadata": {},
   "outputs": [],
   "source": [
    "# Calculate cosine similarity\n",
    "cosine_scores = cosine_similarity(embeddings1.cpu().numpy(), embeddings2.cpu().numpy())\n",
    "similarity_diag = np.diag(similarity_scores)\n",
    "\n",
    "\n",
    "# Predict: If similarity > threshold → duplicate\n",
    "threshold = 0.8\n",
    "predictions = (similarity_scores > threshold).astype(int)\n",
    "\n",
    "# Actual labels\n",
    "labels = df['is_duplicate'].values\n"
   ]
  },
  {
   "cell_type": "code",
   "execution_count": 47,
   "id": "e55d7cea-f90b-48cd-a38d-44fcfaa672f4",
   "metadata": {},
   "outputs": [
    {
     "name": "stdout",
     "output_type": "stream",
     "text": [
      "Accuracy: 0.79\n",
      "F1 Score: 0.725130890052356\n",
      "Confusion Matrix:\n",
      " [[513 121]\n",
      " [ 89 277]]\n"
     ]
    }
   ],
   "source": [
    "print(\"Accuracy:\", accuracy_score(labels, predictions))\n",
    "print(\"F1 Score:\", f1_score(labels, predictions))\n",
    "print(\"Confusion Matrix:\\n\", confusion_matrix(labels, predictions))\n"
   ]
  },
  {
   "cell_type": "code",
   "execution_count": 53,
   "id": "dbeeed8c-7796-48ab-94ba-115fe626fe30",
   "metadata": {},
   "outputs": [
    {
     "name": "stdin",
     "output_type": "stream",
     "text": [
      " I love going to the beach during summer. The ocean breeze is very refreshing.  I enjoy spending my holidays at the seaside. The fresh air from the ocean feels amazing.  I like watching movies on weekends. Weekends are great for enjoying films.\n"
     ]
    },
    {
     "name": "stdout",
     "output_type": "stream",
     "text": [
      "\n",
      "✅ Duplicate Sentence Pairs in Paragraph:\n",
      "\n",
      "- Sentence 1: The ocean breeze is very refreshing.\n",
      "  Sentence 2: The fresh air from the ocean feels amazing.\n",
      "  Similarity Score: 0.82\n",
      "\n",
      "- Sentence 1: I like watching movies on weekends.\n",
      "  Sentence 2: Weekends are great for enjoying films.\n",
      "  Similarity Score: 0.85\n",
      "\n"
     ]
    }
   ],
   "source": [
    "paragraph = input()\n",
    "\n",
    "sentences = sent_tokenize(paragraph)\n",
    "sentence_embeddings = model.encode(sentences, convert_to_tensor=True)\n",
    "sim_matrix = cosine_similarity(sentence_embeddings.cpu().numpy())\n",
    "\n",
    "print(\"\\n\\U00002705 Duplicate Sentence Pairs in Paragraph:\\n\")\n",
    "visited = set()\n",
    "for i in range(len(sentences)):\n",
    "    for j in range(i+1, len(sentences)):\n",
    "        if sim_matrix[i][j] > threshold and (j, i) not in visited:\n",
    "            visited.add((i, j))\n",
    "            print(f\"- Sentence 1: {sentences[i]}\")\n",
    "            print(f\"  Sentence 2: {sentences[j]}\")\n",
    "            print(f\"  Similarity Score: {sim_matrix[i][j]:.2f}\\n\")"
   ]
  },
  {
   "cell_type": "code",
   "execution_count": null,
   "id": "3b840f0f-9965-4970-8202-79cfb0810587",
   "metadata": {},
   "outputs": [],
   "source": []
  }
 ],
 "metadata": {
  "kernelspec": {
   "display_name": "Python 3 (ipykernel)",
   "language": "python",
   "name": "python3"
  },
  "language_info": {
   "codemirror_mode": {
    "name": "ipython",
    "version": 3
   },
   "file_extension": ".py",
   "mimetype": "text/x-python",
   "name": "python",
   "nbconvert_exporter": "python",
   "pygments_lexer": "ipython3",
   "version": "3.11.5"
  }
 },
 "nbformat": 4,
 "nbformat_minor": 5
}
